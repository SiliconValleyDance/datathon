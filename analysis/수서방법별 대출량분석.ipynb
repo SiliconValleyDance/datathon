{
 "cells": [
  {
   "cell_type": "code",
   "execution_count": 6,
   "id": "60cb7946-eaad-4e67-aa5f-a741466ef6f1",
   "metadata": {},
   "outputs": [
    {
     "name": "stderr",
     "output_type": "stream",
     "text": [
      "C:\\Users\\Public\\Documents\\ESTsoft\\CreatorTemp\\ipykernel_11328\\4021642857.py:5: DtypeWarning: Columns (7,8,12) have mixed types. Specify dtype option on import or set low_memory=False.\n",
      "  book_df = pd.read_csv(book_file_path)\n"
     ]
    }
   ],
   "source": [
    "import pandas as pd\n",
    "\n",
    "# CSV 파일 읽기\n",
    "book_file_path = r'org+preptype+repyr+lastyr.csv'\n",
    "book_df = pd.read_csv(book_file_path)\n",
    "\n",
    "rental_file_path = r'origin/대출정보 encode.csv'\n",
    "rental_df = pd.read_csv(rental_file_path)"
   ]
  },
  {
   "cell_type": "code",
   "execution_count": 4,
   "id": "c3f3ff96-3cba-4c80-83aa-7f609ae8a7a4",
   "metadata": {},
   "outputs": [
    {
     "data": {
      "text/plain": [
       "수서정보없음    121595\n",
       "이용자희망      82137\n",
       "사서선정       60378\n",
       "학과신청       32150\n",
       "수업지정        4612\n",
       "기타           279\n",
       "Name: 수서방법, dtype: int64"
      ]
     },
     "execution_count": 4,
     "metadata": {},
     "output_type": "execute_result"
    }
   ],
   "source": [
    "book_df['수서방법'].value_counts()"
   ]
  },
  {
   "cell_type": "code",
   "execution_count": 8,
   "id": "97b940a5-06a2-4dae-b8d0-7d90071bc7b2",
   "metadata": {},
   "outputs": [
    {
     "data": {
      "text/plain": [
       "기타        3.100358\n",
       "사서선정      2.858359\n",
       "수서정보없음    2.497290\n",
       "수업지정      3.335429\n",
       "이용자희망     4.318261\n",
       "학과신청      2.162737\n",
       "dtype: float64"
      ]
     },
     "execution_count": 8,
     "metadata": {},
     "output_type": "execute_result"
    }
   ],
   "source": [
    "# 1. Merge 데이터프레임\n",
    "merged_df = pd.merge(rental_df, book_df, on=\"도서ID\", how=\"inner\")\n",
    "\n",
    "# 2. 수서방법별 대출량 계산\n",
    "rental_counts_by_method = merged_df.groupby(\"수서방법\")[\"도서ID\"].count()\n",
    "\n",
    "# 3. 결과 출력\n",
    "rental_counts_by_method / book_df['수서방법'].value_counts()\n"
   ]
  },
  {
   "cell_type": "code",
   "execution_count": 10,
   "id": "50447191-59bc-41d2-bb8f-03727cba8f1c",
   "metadata": {},
   "outputs": [
    {
     "name": "stdout",
     "output_type": "stream",
     "text": [
      "대출량의 분산 값\n",
      "수서방법\n",
      "기타        102.555027\n",
      "사서선정       50.311173\n",
      "수서정보없음     85.704124\n",
      "수업지정       68.110673\n",
      "이용자희망      72.191523\n",
      "학과신청       36.812545\n",
      "Name: 대출량, dtype: float64\n"
     ]
    }
   ],
   "source": [
    "# 2. 수서방법별 대출량 집계\n",
    "rental_counts_by_method = merged_df.groupby([\"수서방법\", \"도서ID\"]).size().reset_index(name=\"대출량\")\n",
    "\n",
    "# 3. 수서방법별 대출량 분산 계산\n",
    "variance_by_method = rental_counts_by_method.groupby(\"수서방법\")[\"대출량\"].var()\n",
    "\n",
    "# 4. 결과 출력\n",
    "print(\"대출량의 분산 값\")\n",
    "print(variance_by_method)"
   ]
  },
  {
   "cell_type": "code",
   "execution_count": null,
   "id": "4b8094a3-bcec-43ec-9640-8cb8709fd6e1",
   "metadata": {},
   "outputs": [],
   "source": []
  }
 ],
 "metadata": {
  "kernelspec": {
   "display_name": "Python 3 (ipykernel)",
   "language": "python",
   "name": "python3"
  },
  "language_info": {
   "codemirror_mode": {
    "name": "ipython",
    "version": 3
   },
   "file_extension": ".py",
   "mimetype": "text/x-python",
   "name": "python",
   "nbconvert_exporter": "python",
   "pygments_lexer": "ipython3",
   "version": "3.11.1"
  }
 },
 "nbformat": 4,
 "nbformat_minor": 5
}
