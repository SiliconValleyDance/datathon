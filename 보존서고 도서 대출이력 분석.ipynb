{
 "cells": [
  {
   "cell_type": "code",
   "execution_count": 1,
   "id": "9f475c15-f2ce-4c8d-85be-2342f50862c3",
   "metadata": {},
   "outputs": [
    {
     "name": "stderr",
     "output_type": "stream",
     "text": [
      "C:\\Users\\Public\\Documents\\ESTsoft\\CreatorTemp\\ipykernel_20648\\227505148.py:7: DtypeWarning: Columns (7,8,12) have mixed types. Specify dtype option on import or set low_memory=False.\n",
      "  book_data = pd.read_csv(file_path)\n"
     ]
    }
   ],
   "source": [
    "import pandas as pd\n",
    "\n",
    "borrow_file_path = r'origin/대출정보 encode.csv'\n",
    "borrow_df = pd.read_csv(borrow_file_path)\n",
    "\n",
    "file_path = r'org+preptype+repyr+lastyr.csv'\n",
    "book_data = pd.read_csv(file_path)"
   ]
  },
  {
   "cell_type": "code",
   "execution_count": 2,
   "id": "880a46d7-1599-4dad-933d-fd8232ef1faa",
   "metadata": {},
   "outputs": [
    {
     "name": "stdout",
     "output_type": "stream",
     "text": [
      "가장 오래된 대출일자: 2004-11-01 09:42:00\n",
      "가장 최근 대출일자: 2024-10-31 21:34:00\n"
     ]
    }
   ],
   "source": [
    "# 대출 일시 열을 datetime 형식으로 변환\n",
    "borrow_df['대출일시'] = pd.to_datetime(borrow_df['대출일시'])\n",
    "\n",
    "# 대출 일시 기준으로 데이터 정렬 (내림차순)\n",
    "data_sorted = borrow_df.sort_values(by='대출일시', ascending=False)\n",
    "\n",
    "# 대출 일자 확인\n",
    "most_recent_date = data_sorted.iloc[0]['대출일시']\n",
    "most_old_date = data_sorted.iloc[-1]['대출일시']\n",
    "\n",
    "print(\"가장 오래된 대출일자:\", most_old_date)\n",
    "print(\"가장 최근 대출일자:\", most_recent_date)"
   ]
  },
  {
   "cell_type": "code",
   "execution_count": 3,
   "id": "c25d6505-4221-4cac-b78f-e15d5186e4fb",
   "metadata": {},
   "outputs": [
    {
     "name": "stdout",
     "output_type": "stream",
     "text": [
      "전체 도서의 수: 301151\n",
      "'보존서고' 값의 데이터 개수: 138697\n",
      "'4층인문' 값의 데이터 개수: 162454\n"
     ]
    }
   ],
   "source": [
    "all_book_count = book_data.shape[0]\n",
    "print(\"전체 도서의 수:\", all_book_count)\n",
    "\n",
    "# '소장위치' 열에서 '보존서고' 값의 개수 세기\n",
    "count = book_data[book_data['소장위치'] == '보존서고'].shape[0]\n",
    "print(f\"'보존서고' 값의 데이터 개수: {count}\")\n",
    "\n",
    "# '소장위치' 열에서 '보존서고' 값의 개수 세기\n",
    "count = book_data[book_data['소장위치'] == '4층인문'].shape[0]\n",
    "print(f\"'4층인문' 값의 데이터 개수: {count}\")"
   ]
  },
  {
   "cell_type": "code",
   "execution_count": 4,
   "id": "212de316-21cc-4e33-95b6-9c8247523263",
   "metadata": {},
   "outputs": [
    {
     "name": "stdout",
     "output_type": "stream",
     "text": [
      "5년동안 한 번이라도 대출 된 도서의 ID:\n",
      "['SS_105846' 'SS_275317' 'SS_097835' ... 'SS_171677' 'SS_025230'\n",
      " 'SS_072425']\n",
      "5년동안 한 번이라도 대출 된 도서의 수 59448\n"
     ]
    }
   ],
   "source": [
    "from datetime import timedelta\n",
    "\n",
    "# 5년 전 날짜 계산\n",
    "five_years_ago = most_recent_date - timedelta(days=5*365)\n",
    "\n",
    "# 5년 동안 대출된 책 필터링\n",
    "filtered_data = borrow_df[borrow_df['대출일시'] >= five_years_ago]\n",
    "\n",
    "# 대출된 책 ID 목록 추출 (중복 제거)\n",
    "book_ids = filtered_data['도서ID'].unique()\n",
    "\n",
    "print(\"5년동안 한 번이라도 대출 된 도서의 ID:\")\n",
    "print(book_ids)\n",
    "\n",
    "print(\"5년동안 한 번이라도 대출 된 도서의 수\", len(book_ids))"
   ]
  },
  {
   "cell_type": "code",
   "execution_count": 5,
   "id": "f734097f-9e02-490a-ba5b-608bc92ced41",
   "metadata": {},
   "outputs": [
    {
     "name": "stdout",
     "output_type": "stream",
     "text": [
      "5년동안 한 번도 대출되지 않은 도서의 수 241703\n",
      "전체 도서 중 5년동안 한 번도 대출되지 않은 도서가 80.25973680977317%이다.\n"
     ]
    }
   ],
   "source": [
    "# 전체 id에서 5년간 빌린 책의 id 빼기\n",
    "unborrowed_books_id = set(book_data['도서ID']) - set(book_ids)\n",
    "unborrowed_percent = len(unborrowed_books_id) / all_book_count * 100\n",
    "\n",
    "print(\"5년동안 한 번도 대출되지 않은 도서의 수\", len(unborrowed_books_id))\n",
    "print(f\"전체 도서 중 5년동안 한 번도 대출되지 않은 도서가 {unborrowed_percent}%이다.\")"
   ]
  },
  {
   "cell_type": "code",
   "execution_count": 6,
   "id": "520fdaa8-fc7c-4180-a984-769b9594ef32",
   "metadata": {},
   "outputs": [
    {
     "name": "stdout",
     "output_type": "stream",
     "text": [
      "소장 위치가 보존서고임에도 최근 5년 내 대출되었던 도서의 수 (중복없이!):  8036\n"
     ]
    }
   ],
   "source": [
    "filtered_books = book_data[(book_data['소장위치'] == '보존서고') & (book_data['도서ID'].isin(book_ids))]\n",
    "print(\"소장 위치가 보존서고임에도 최근 5년 내 대출되었던 도서의 수 (중복없이!): \", len(filtered_books))"
   ]
  },
  {
   "cell_type": "code",
   "execution_count": 7,
   "id": "4b5247ee-22a4-4867-946a-1ea425735aa5",
   "metadata": {},
   "outputs": [],
   "source": [
    "import matplotlib.pyplot as plt\n",
    "import matplotlib.font_manager as fm\n",
    "\n",
    "# 한글 폰트 설정 (Windows: 'Malgun Gothic', Mac: 'AppleGothic', Linux: 'NanumGothic')\n",
    "plt.rc('font', family='Malgun Gothic')  # Windows 환경\n",
    "\n",
    "# 마이너스 기호 깨짐 방지\n",
    "plt.rcParams['axes.unicode_minus'] = False\n"
   ]
  },
  {
   "cell_type": "code",
   "execution_count": 8,
   "id": "439fe31f-2f66-418f-9287-17e76d5ff11e",
   "metadata": {},
   "outputs": [
    {
     "name": "stdout",
     "output_type": "stream",
     "text": [
      "SS_126082    24\n",
      "SS_018222    24\n",
      "SS_004813    23\n",
      "SS_144164    23\n",
      "SS_024060    22\n",
      "             ..\n",
      "SS_250291     1\n",
      "SS_242908     1\n",
      "SS_016232     1\n",
      "SS_187307     1\n",
      "SS_282441     1\n",
      "Name: 도서ID, Length: 8036, dtype: int64\n"
     ]
    }
   ],
   "source": [
    "# 최근 5년 기준 날짜 계산\n",
    "five_years_ago = most_recent_date - timedelta(days=5*365)\n",
    "\n",
    "# filtered_books에서 도서 ID 목록 가져오기\n",
    "filtered_book_ids = set(filtered_books['도서ID'])\n",
    "\n",
    "# 최근 5년 동안 filtered_books에 있는 도서들의 대출 기록 필터링\n",
    "recent_borrowed_books = borrow_df[\n",
    "    (borrow_df['대출일시'] >= five_years_ago) & \n",
    "    (borrow_df['도서ID'].isin(filtered_book_ids))\n",
    "]\n",
    "\n",
    "# 도서 ID별 대출 횟수 계산\n",
    "borrow_counts = recent_borrowed_books['도서ID'].value_counts()\n",
    "\n",
    "# 결과 출력\n",
    "print(borrow_counts)"
   ]
  },
  {
   "cell_type": "code",
   "execution_count": 11,
   "id": "3f0fcccd-76b0-4122-81ee-fcd22f8aeb65",
   "metadata": {
    "scrolled": true
   },
   "outputs": [
    {
     "data": {
      "image/png": "[encoded data removed]",
      "text/plain": [
       "<Figure size 1000x600 with 1 Axes>"
      ]
     },
     "metadata": {},
     "output_type": "display_data"
    },
    {
     "data": {
      "text/plain": [
       "1     5394\n",
       "2     1392\n",
       "3      567\n",
       "4      245\n",
       "5      156\n",
       "6       95\n",
       "7       60\n",
       "8       32\n",
       "9       23\n",
       "10      23\n",
       "11      10\n",
       "12       8\n",
       "13       4\n",
       "14       3\n",
       "15       6\n",
       "16       2\n",
       "18       2\n",
       "19       6\n",
       "21       1\n",
       "22       3\n",
       "23       2\n",
       "24       2\n",
       "Name: 도서ID, dtype: int64"
      ]
     },
     "execution_count": 11,
     "metadata": {},
     "output_type": "execute_result"
    }
   ],
   "source": [
    "import matplotlib.pyplot as plt\n",
    "\n",
    "# 대출 횟수별 도서 개수 계산\n",
    "borrow_count_distribution = borrow_counts.value_counts().sort_index()\n",
    "\n",
    "# 막대그래프 그리기\n",
    "plt.figure(figsize=(10, 6))\n",
    "plt.bar(borrow_count_distribution.index, borrow_count_distribution.values, color='skyblue')\n",
    "\n",
    "# 그래프 꾸미기\n",
    "plt.xlabel('대출 횟수', fontsize=12)\n",
    "plt.ylabel('도서 개수', fontsize=12)\n",
    "plt.title('최근 5년간 대출 이력이 있는 보존서고 도서의 대출 건수', fontsize=14)\n",
    "plt.xticks(borrow_count_distribution.index)  # X축 눈금 지정\n",
    "plt.grid(axis='y', linestyle='--', alpha=0.7)\n",
    "\n",
    "# 값 표시\n",
    "for x, y in zip(borrow_count_distribution.index, borrow_count_distribution.values):\n",
    "    plt.text(x, y, str(y), ha='center', va='bottom', fontsize=10)\n",
    "\n",
    "# 그래프 저장\n",
    "plt.savefig(\"borrow_count_distribution.png\", dpi=300, bbox_inches='tight')  # 파일 저장\n",
    "\n",
    "# 그래프 출력\n",
    "plt.show()\n",
    "\n",
    "# 데이터 출력\n",
    "borrow_count_distribution\n"
   ]
  },
  {
   "cell_type": "code",
   "execution_count": null,
   "id": "b0b9f69f-72e9-4e88-a641-f9919759903b",
   "metadata": {},
   "outputs": [],
   "source": []
  },
  {
   "cell_type": "code",
   "execution_count": null,
   "id": "09ac2faa-9651-408a-9d3e-a61d25224548",
   "metadata": {},
   "outputs": [],
   "source": []
  }
 ],
 "metadata": {
  "kernelspec": {
   "display_name": "Python 3 (ipykernel)",
   "language": "python",
   "name": "python3"
  },
  "language_info": {
   "codemirror_mode": {
    "name": "ipython",
    "version": 3
   },
   "file_extension": ".py",
   "mimetype": "text/x-python",
   "name": "python",
   "nbconvert_exporter": "python",
   "pygments_lexer": "ipython3",
   "version": "3.11.1"
  }
 },
 "nbformat": 4,
 "nbformat_minor": 5
}
